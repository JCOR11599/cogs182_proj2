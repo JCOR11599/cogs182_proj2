{
 "cells": [
  {
   "cell_type": "code",
   "execution_count": 1,
   "metadata": {},
   "outputs": [],
   "source": [
    "# imports\n",
    "import numpy as np\n",
    "import matplotlib.pyplot as plt\n",
    "import random\n",
    "from collections import defaultdict"
   ]
  },
  {
   "cell_type": "code",
   "execution_count": 2,
   "metadata": {},
   "outputs": [],
   "source": [
    "# define constants\n",
    "HEIGHT = 8\n",
    "WIDTH = 8"
   ]
  },
  {
   "cell_type": "code",
   "execution_count": 3,
   "metadata": {},
   "outputs": [],
   "source": [
    "# intialize board\n",
    "def init_board():\n",
    "    # create board environment\n",
    "    board = np.zeros((HEIGHT, WIDTH)).astype(int)\n",
    "    # white pieces\n",
    "    board[[0,2], 1:8:2] = 1\n",
    "    board[1,0:7:2] = 1\n",
    "    # black pieces\n",
    "    board[[5,7], 0:7:2] = 2\n",
    "    board[6,1:8:2] = 2\n",
    "    # return\n",
    "    return board"
   ]
  },
  {
   "cell_type": "code",
   "execution_count": 4,
   "metadata": {},
   "outputs": [],
   "source": [
    "# convert board to a hashable type\n",
    "def board_to_state(board):\n",
    "    res = ''\n",
    "    for i in range(WIDTH):\n",
    "        for j in range(HEIGHT):\n",
    "            res += str(board[i][j])\n",
    "        res += '\\n'\n",
    "    return res"
   ]
  },
  {
   "cell_type": "code",
   "execution_count": 5,
   "metadata": {},
   "outputs": [],
   "source": [
    "# function to print out the checker board\n",
    "# 0 = empty, 1 = white, 2 = black\n",
    "def print_board(board):\n",
    "    for i in range(WIDTH):\n",
    "        for j in range(HEIGHT):\n",
    "            if (board[i][j] == 1):\n",
    "                print('|{}'.format('W'), end='')\n",
    "            elif (board[i][j] == 2):\n",
    "                print('|{}'.format('B'), end='')\n",
    "            else:\n",
    "                print('|{}'.format(' '), end='')\n",
    "        print('|')"
   ]
  },
  {
   "cell_type": "code",
   "execution_count": 6,
   "metadata": {},
   "outputs": [],
   "source": [
    "# returns all the valid actions you could take per piece\n",
    "# board = 2d array of whole state\n",
    "# player = int stating which player you are\n",
    "# piece = list of tuples of coordinate of a piece location (i,j)\n",
    "# action = (piece location, new piece loction, piece taken)\n",
    "def get_actions(board, player):\n",
    "    # get all pieces\n",
    "    pieces = np.argwhere(board == player)\n",
    "    \n",
    "    # initialize actions\n",
    "    valid_actions = []\n",
    "    \n",
    "    # if you are white player\n",
    "    if player == 1:\n",
    "        # check if each action is valid\n",
    "        for i,j in pieces:\n",
    "            # can go down?\n",
    "            if (i < HEIGHT-1):\n",
    "                # can go left?\n",
    "                if (j > 0):\n",
    "                    # empty space\n",
    "                    if board[i+1, j-1] == 0:\n",
    "                        valid_actions.append(((i,j), (i+1,j-1), (-1,-1)))\n",
    "                    # other player\n",
    "                    elif board[i+1, j-1] != player:\n",
    "                        # space to land\n",
    "                        if (i+2 <= HEIGHT-1) and (j-2 >= 0) and (board[i+2,j-2] == 0):\n",
    "                            valid_actions.append(((i,j), (i+2,j-2), (i+1,j-1)))\n",
    "                # can go right?\n",
    "                if (j < WIDTH-1):\n",
    "                    # empty space\n",
    "                    if board[i+1, j+1] == 0:\n",
    "                        valid_actions.append(((i,j), (i+1,j+1), (-1,-1)))\n",
    "                    # other player\n",
    "                    elif board[i+1, j+1] != player:\n",
    "                        # space to land\n",
    "                        if (i+2 <= HEIGHT-1) and (j+2 <= WIDTH-1) and (board[i+2,j+2] == 0):\n",
    "                            valid_actions.append(((i,j), (i+2,j+2), (i+1,j+1)))\n",
    "    # if you are black player\n",
    "    elif player == 2:\n",
    "        # check if each action is valid\n",
    "        for i,j in pieces:\n",
    "            # can go up?\n",
    "            if (i > 0):\n",
    "                # can go left?\n",
    "                if (j > 0):\n",
    "                    # empty space\n",
    "                    if board[i-1, j-1] == 0:\n",
    "                        valid_actions.append(((i,j), (i-1,j-1), (-1,-1)))\n",
    "                    # other player\n",
    "                    elif board[i-1, j-1] != player:\n",
    "                        # space to land\n",
    "                        if (i-2 >= 0) and (j-2 >= 0) and (board[i-2,j-2] == 0):\n",
    "                            valid_actions.append(((i,j), (i-2,j-2), (i-1,j-1)))\n",
    "                # can go right?\n",
    "                if (j < WIDTH-1):\n",
    "                    # empty space\n",
    "                    if board[i-1, j+1] == 0:\n",
    "                        valid_actions.append(((i,j), (i-1,j+1),(-1,-1)))\n",
    "                    # other player\n",
    "                    elif board[i-1, j+1] != player:\n",
    "                        # space to land\n",
    "                        if (i-2 >= 0) and (j+2 <= WIDTH-1) and (board[i-2,j+2] == 0):\n",
    "                            valid_actions.append(((i,j), (i-2,j+2), (i-1,j+1)))\n",
    "    return valid_actions"
   ]
  },
  {
   "cell_type": "code",
   "execution_count": 7,
   "metadata": {},
   "outputs": [],
   "source": [
    "# white player always moves randomly\n",
    "def random_move(board, player):\n",
    "    # get all actions\n",
    "    actions = get_actions(board, player)\n",
    "    # return terminal if no moves left\n",
    "    if len(actions) == 0:\n",
    "        return board, False\n",
    "    # select random action\n",
    "    action = random.choice(actions)\n",
    "    # update board\n",
    "    board[action[0]] = 0\n",
    "    board[action[1]] = player\n",
    "    # if it was a take move\n",
    "    if (action[2] != (-1,-1)):\n",
    "        board[action[2]] = 0\n",
    "    # return new board\n",
    "    return board, True"
   ]
  },
  {
   "cell_type": "code",
   "execution_count": 8,
   "metadata": {},
   "outputs": [],
   "source": [
    "# given the current board state, and all valid actions, pick one\n",
    "# episilon greedy strategy\n",
    "def pi(q, state, actions, epsilon):\n",
    "    # get all state action values\n",
    "    moves = [(q[state, action], action) for action in actions]\n",
    "    random.shuffle(moves)\n",
    "    # randomly choose an action\n",
    "    if np.random.random() < epsilon:\n",
    "        return moves[0][1]\n",
    "    # pick best action (random tie breaks)\n",
    "    else:\n",
    "        return max(moves)[1]"
   ]
  },
  {
   "cell_type": "code",
   "execution_count": 9,
   "metadata": {},
   "outputs": [],
   "source": [
    "# have the agent move according to a give policy\n",
    "def agent_move(board, action):\n",
    "    # determine reward\n",
    "    reward = 0\n",
    "    # update board\n",
    "    board[action[0]] = 0\n",
    "    board[action[1]] = 2\n",
    "    # if it was a jump move\n",
    "    if (action[2] != (-1,-1)):\n",
    "        board[action[2]] = 0\n",
    "        reward = 1\n",
    "    return board, reward"
   ]
  },
  {
   "cell_type": "code",
   "execution_count": 10,
   "metadata": {},
   "outputs": [],
   "source": [
    "# determines a winner based on how many pieces left\n",
    "def find_winner(board):\n",
    "    white = np.sum(board == 1)\n",
    "    black = np.sum(board == 2)\n",
    "    if white > black:\n",
    "        return 1\n",
    "    elif black > white:\n",
    "        return 2\n",
    "    else:\n",
    "        return 0"
   ]
  },
  {
   "cell_type": "code",
   "execution_count": 11,
   "metadata": {},
   "outputs": [],
   "source": [
    "# simulate an episode\n",
    "def simulate_episode(q, epsilon, alpha, gamma):\n",
    "    # intialize board\n",
    "    board, playing = init_board(), True\n",
    "    # terminal state / no valid moves left\n",
    "    player = np.random.randint(1,3) # who starts?\n",
    "    while playing:\n",
    "        # white move\n",
    "        if player == 1:\n",
    "            board, playing = random_move(board, 1)\n",
    "        # black move\n",
    "        elif player == 2:\n",
    "            # current state\n",
    "            state = board_to_state(board)\n",
    "            # get all actions\n",
    "            actions = get_actions(board, 2)\n",
    "            # break if no moves left or white has run out of moves\n",
    "            if len(actions) == 0:\n",
    "                break\n",
    "            # select action according to pi\n",
    "            action = pi(q, state, actions, epsilon)\n",
    "            # observe R, S'\n",
    "            board, reward = agent_move(board, action)\n",
    "            next_state = board_to_state(board)\n",
    "            # update state-action value function\n",
    "            q[state, action] += alpha * (reward + gamma * max([q[next_state, a] for a in actions]) - q[state, action])\n",
    "            \n",
    "        # alternate players\n",
    "        player = (player % 2) + 1\n",
    "        \n",
    "    return find_winner(board)"
   ]
  },
  {
   "cell_type": "code",
   "execution_count": 12,
   "metadata": {},
   "outputs": [],
   "source": [
    "# define parameters\n",
    "num_exp = 5\n",
    "num_eps = 1001\n",
    "alpha = 0.1\n",
    "gamma = 0.9\n",
    "epsilon = 0.05"
   ]
  },
  {
   "cell_type": "code",
   "execution_count": 13,
   "metadata": {},
   "outputs": [],
   "source": [
    "# define state-action value function\n",
    "q = defaultdict(lambda: 0)"
   ]
  },
  {
   "cell_type": "code",
   "execution_count": 14,
   "metadata": {},
   "outputs": [],
   "source": [
    "# define tracking variables\n",
    "total_wins = 0\n",
    "total_loss = 0\n",
    "total_ties = 0\n",
    "avg_win_ratio = np.zeros(num_eps)\n",
    "avg_win_ratio_no_ties = np.zeros(num_eps)\n",
    "\n",
    "# go through several experiments\n",
    "for e in range(num_exp):\n",
    "    # go through several episodes\n",
    "    wins = 0\n",
    "    loss = 0\n",
    "    ties = 0\n",
    "    win_ratio = np.zeros(num_eps)\n",
    "    win_ratio_no_ties = np.zeros(num_eps)\n",
    "    for t in range(num_eps):\n",
    "        winner = simulate_episode(q, epsilon, alpha, gamma)\n",
    "        if (winner == 2):\n",
    "            wins += 1\n",
    "        elif (winner == 1):\n",
    "            loss += 1\n",
    "        else:\n",
    "            ties += 1\n",
    "        win_ratio[t] = wins/(t+1)\n",
    "        win_ratio_no_ties[t] = wins/(wins+loss+1)\n",
    "    # accumulate counts\n",
    "    total_wins += wins\n",
    "    total_loss += loss\n",
    "    total_ties += ties\n",
    "    # accumulate ratios\n",
    "    avg_win_ratio += win_ratio\n",
    "    avg_win_ratio_no_ties += win_ratio_no_ties\n",
    "    \n",
    "# average over all experiments\n",
    "avg_win_ratio /= num_exp\n",
    "avg_win_ratio_no_ties /= num_exp"
   ]
  },
  {
   "cell_type": "code",
   "execution_count": 15,
   "metadata": {},
   "outputs": [
    {
     "data": {
      "image/png": "[encoded data removed]",
      "text/plain": [
       "<Figure size 432x288 with 1 Axes>"
      ]
     },
     "metadata": {
      "needs_background": "light"
     },
     "output_type": "display_data"
    }
   ],
   "source": [
    "# plot win ratio\n",
    "plt.plot(avg_win_ratio[1:])\n",
    "plt.title('Win Ratio')\n",
    "plt.xlabel('Episodes')\n",
    "plt.ylabel('Wins')\n",
    "plt.savefig('./q_wr.png', bbox_inches='tight')\n",
    "plt.show()"
   ]
  },
  {
   "cell_type": "code",
   "execution_count": 16,
   "metadata": {},
   "outputs": [
    {
     "data": {
      "image/png": "[encoded data removed]",
      "text/plain": [
       "<Figure size 432x288 with 1 Axes>"
      ]
     },
     "metadata": {
      "needs_background": "light"
     },
     "output_type": "display_data"
    }
   ],
   "source": [
    "# plot win ratio\n",
    "plt.plot(avg_win_ratio_no_ties[1:])\n",
    "plt.title('Win Loss Ratio')\n",
    "plt.xlabel('Episodes')\n",
    "plt.ylabel('Wins/Losses')\n",
    "plt.savefig('./q_wrnt.png', bbox_inches='tight')\n",
    "plt.show()"
   ]
  },
  {
   "cell_type": "code",
   "execution_count": 17,
   "metadata": {},
   "outputs": [
    {
     "name": "stdout",
     "output_type": "stream",
     "text": [
      "Total wins: 2468\n",
      "Total loss: 1585\n",
      "Total ties: 952\n"
     ]
    }
   ],
   "source": [
    "# print counts\n",
    "print('Total wins:', total_wins)\n",
    "print('Total loss:', total_loss)\n",
    "print('Total ties:', total_ties)"
   ]
  },
  {
   "cell_type": "markdown",
   "metadata": {},
   "source": [
    "# Monte Carlo Tree Search"
   ]
  },
  {
   "cell_type": "code",
   "execution_count": 18,
   "metadata": {},
   "outputs": [],
   "source": [
    "from copy import deepcopy"
   ]
  },
  {
   "cell_type": "code",
   "execution_count": 19,
   "metadata": {},
   "outputs": [],
   "source": [
    "# randomly simulate game and return winner\n",
    "def rollout(board, player):\n",
    "    playing = True\n",
    "    while playing:\n",
    "        board, playing = random_move(board, player)\n",
    "        player = (player % 2) + 1\n",
    "    return find_winner(board)"
   ]
  },
  {
   "cell_type": "code",
   "execution_count": 20,
   "metadata": {},
   "outputs": [],
   "source": [
    "# use montecarlo search to find best move\n",
    "def pi(board, actions, num_trials):\n",
    "    action_vals = []\n",
    "    # try all actions\n",
    "    for action in actions:\n",
    "        # take action\n",
    "        new_board = deepcopy(board)\n",
    "        new_board, _ = agent_move(new_board, action)\n",
    "        # estimate end reward\n",
    "        reward = 0\n",
    "        for i in range(num_trials):\n",
    "            winner = rollout(new_board, 1)\n",
    "            if winner == 1:\n",
    "                reward -= 1\n",
    "            elif winner == 2:\n",
    "                reward += 1\n",
    "        action_vals.append(reward/num_trials)\n",
    "    # return best action\n",
    "    return actions[np.argmax(action_vals)]"
   ]
  },
  {
   "cell_type": "code",
   "execution_count": 21,
   "metadata": {},
   "outputs": [],
   "source": [
    "# simulate an episode\n",
    "def simulate_episode(num_trials):\n",
    "    # intialize board\n",
    "    board, playing = init_board(), True\n",
    "    # terminal state / no valid moves left\n",
    "    player = np.random.randint(1,3) # who starts?\n",
    "    while playing:\n",
    "        # white move\n",
    "        if player == 1:\n",
    "            board, playing = random_move(board, 1)\n",
    "        # black move\n",
    "        elif player == 2:\n",
    "            # current state\n",
    "            state = board_to_state(board)\n",
    "            # get all actions\n",
    "            actions = get_actions(board, 2)\n",
    "            # break if no moves left or white has run out of moves\n",
    "            if len(actions) == 0:\n",
    "                break\n",
    "            # select action according to pi\n",
    "            action = pi(board, actions, num_trials)\n",
    "            # observe R, S'\n",
    "            board, _ = agent_move(board, action)\n",
    "        # alternate players\n",
    "        player = (player % 2) + 1\n",
    "    return find_winner(board)"
   ]
  },
  {
   "cell_type": "code",
   "execution_count": 22,
   "metadata": {},
   "outputs": [],
   "source": [
    "# define parameters\n",
    "num_eps = 100\n",
    "num_trials = 5"
   ]
  },
  {
   "cell_type": "code",
   "execution_count": 23,
   "metadata": {},
   "outputs": [],
   "source": [
    "# go through several episodes\n",
    "wins = 0\n",
    "loss = 0\n",
    "ties = 0\n",
    "win_ratio = np.zeros(num_eps)\n",
    "win_ratio_no_ties = np.zeros(num_eps)\n",
    "for t in range(num_eps):\n",
    "    winner = simulate_episode(num_trials)\n",
    "    if (winner == 2):\n",
    "        wins += 1\n",
    "    elif (winner == 1):\n",
    "        loss += 1\n",
    "    else:\n",
    "        ties += 1\n",
    "    win_ratio[t] = wins/(t+1)\n",
    "    win_ratio_no_ties[t] = wins/(wins+loss+1)"
   ]
  },
  {
   "cell_type": "code",
   "execution_count": 24,
   "metadata": {},
   "outputs": [
    {
     "data": {
      "image/png": "[encoded data removed]",
      "text/plain": [
       "<Figure size 432x288 with 1 Axes>"
      ]
     },
     "metadata": {
      "needs_background": "light"
     },
     "output_type": "display_data"
    }
   ],
   "source": [
    "# plot win ratio\n",
    "plt.plot(win_ratio)\n",
    "plt.title('Win Ratio')\n",
    "plt.xlabel('Episodes')\n",
    "plt.ylabel('Wins')\n",
    "plt.savefig('./mcts_wr.png', bbox_inches='tight')\n",
    "plt.show()"
   ]
  },
  {
   "cell_type": "code",
   "execution_count": 25,
   "metadata": {},
   "outputs": [
    {
     "data": {
      "image/png": "[encoded data removed]",
      "text/plain": [
       "<Figure size 432x288 with 1 Axes>"
      ]
     },
     "metadata": {
      "needs_background": "light"
     },
     "output_type": "display_data"
    }
   ],
   "source": [
    "# plot win ratio\n",
    "plt.plot(win_ratio_no_ties)\n",
    "plt.title('Win Loss Ratio')\n",
    "plt.xlabel('Episodes')\n",
    "plt.ylabel('Wins/Losses')\n",
    "plt.savefig('./mcts_wrnt.png', bbox_inches='tight')\n",
    "plt.show()"
   ]
  },
  {
   "cell_type": "code",
   "execution_count": 26,
   "metadata": {},
   "outputs": [
    {
     "name": "stdout",
     "output_type": "stream",
     "text": [
      "Total wins: 88\n",
      "Total loss: 8\n",
      "Total ties: 4\n"
     ]
    }
   ],
   "source": [
    "# print counts\n",
    "print('Total wins:', wins)\n",
    "print('Total loss:', loss)\n",
    "print('Total ties:', ties)"
   ]
  }
 ],
 "metadata": {
  "kernelspec": {
   "display_name": "Python 3",
   "language": "python",
   "name": "python3"
  },
  "language_info": {
   "codemirror_mode": {
    "name": "ipython",
    "version": 3
   },
   "file_extension": ".py",
   "mimetype": "text/x-python",
   "name": "python",
   "nbconvert_exporter": "python",
   "pygments_lexer": "ipython3",
   "version": "3.6.9"
  }
 },
 "nbformat": 4,
 "nbformat_minor": 4
}
